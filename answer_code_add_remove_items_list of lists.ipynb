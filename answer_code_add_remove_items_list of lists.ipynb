{
 "cells": [
  {
   "cell_type": "code",
   "execution_count": 143,
   "id": "7016fb17",
   "metadata": {},
   "outputs": [],
   "source": [
    "lst= [] ##define the list to added \n",
    "nested_lst=[] ## define the start list\n",
    "def add(lst,nested_lst):\n",
    "    \"\"\"function to add an list to a nested list\"\"\"\n",
    "    nested_lst.append(lst) #append the added list to the start list\n",
    "    return (nested_lst)"
   ]
  },
  {
   "cell_type": "code",
   "execution_count": 148,
   "id": "a32db8b4",
   "metadata": {},
   "outputs": [
    {
     "data": {
      "text/plain": [
       "[[1, 5]]"
      ]
     },
     "execution_count": 148,
     "metadata": {},
     "output_type": "execute_result"
    }
   ],
   "source": [
    "add([1,5],[])"
   ]
  },
  {
   "cell_type": "code",
   "execution_count": 144,
   "id": "b232324a",
   "metadata": {},
   "outputs": [
    {
     "data": {
      "text/plain": [
       "[[1, 2], [3, 5], [6, 8]]"
      ]
     },
     "execution_count": 144,
     "metadata": {},
     "output_type": "execute_result"
    }
   ],
   "source": [
    "add([6,8],[[1,2],[3,5]])"
   ]
  },
  {
   "cell_type": "code",
   "execution_count": 142,
   "id": "e06d1b97",
   "metadata": {},
   "outputs": [
    {
     "data": {
      "text/plain": [
       "[[1, 8], [2, 7]]"
      ]
     },
     "execution_count": 142,
     "metadata": {},
     "output_type": "execute_result"
    }
   ],
   "source": [
    "add([2,7],[[1,8]])"
   ]
  },
  {
   "cell_type": "code",
   "execution_count": 145,
   "id": "d17af1dc",
   "metadata": {},
   "outputs": [],
   "source": [
    "split_list=[] ## define the nested list \n",
    "def rem_list_item(split_list, rem_num): ## define a function with nested list and a list with items to remove.\n",
    "    \"\"\"Recursive function to remove an item from a nested list\"\"\"\n",
    "    output2 = [] ## define a output list 2 \n",
    "    for sub_list in split_list:\n",
    "        new_sub_list = []\n",
    "        for sub_itm in sub_list:\n",
    "            if sub_itm not in rem_num: ## Keep the items in the sub_list of nested list if the item is not in the rem_num list.\n",
    "                 new_sub_list.append(sub_itm)\n",
    "        output2.append(new_sub_list)\n",
    "        output3=[] ## define a output list 3\n",
    "        output4=[] ## define a output list 4\n",
    "        for sub_list2 in output2:\n",
    "            if len(sub_list2)==1: ## if the length of the sublist conatin only one item, it needs to be combined with the other sublist with also only one item. \n",
    "                output3+=sub_list2\n",
    "            elif len(sub_list2)==2:## if the length of the sublist contain two item, the list is kept unchanged and assign to list output4. \n",
    "                output4.append(sub_list2)    \n",
    "        output4.append(output3)\n",
    "    return (output4)"
   ]
  },
  {
   "cell_type": "code",
   "execution_count": 146,
   "id": "6210397e",
   "metadata": {},
   "outputs": [
    {
     "data": {
      "text/plain": [
       "[[1, 2], [3, 8]]"
      ]
     },
     "execution_count": 146,
     "metadata": {},
     "output_type": "execute_result"
    }
   ],
   "source": [
    "rem_list_item([[1,2],[3,4],[7,8]],[4,7])"
   ]
  },
  {
   "cell_type": "code",
   "execution_count": 147,
   "id": "ec4e6988",
   "metadata": {},
   "outputs": [
    {
     "data": {
      "text/plain": [
       "[[1, 5]]"
      ]
     },
     "execution_count": 147,
     "metadata": {},
     "output_type": "execute_result"
    }
   ],
   "source": [
    "rem_list_item([[1,2],[3,5]],[2,3])"
   ]
  },
  {
   "cell_type": "code",
   "execution_count": null,
   "id": "f2b7d916",
   "metadata": {},
   "outputs": [],
   "source": []
  }
 ],
 "metadata": {
  "kernelspec": {
   "display_name": "Python 3",
   "language": "python",
   "name": "python3"
  },
  "language_info": {
   "codemirror_mode": {
    "name": "ipython",
    "version": 3
   },
   "file_extension": ".py",
   "mimetype": "text/x-python",
   "name": "python",
   "nbconvert_exporter": "python",
   "pygments_lexer": "ipython3",
   "version": "3.8.5"
  }
 },
 "nbformat": 4,
 "nbformat_minor": 5
}
